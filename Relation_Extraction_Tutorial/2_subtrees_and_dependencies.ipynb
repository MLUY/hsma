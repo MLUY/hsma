{
 "cells": [
  {
   "cell_type": "markdown",
   "metadata": {},
   "source": [
    "Note 1 : This notebook draws heaviily from the tutorial available here : https://www.analyticsvidhya.com/blog/2019/09/introduction-information-extraction-python-spacy/\n",
    "\n",
    "Note 2 : You should ensure that you have installed SpaCy and a SpaCy model (such as en_core_web_sm) to run the code in this notebook.  You can download the en_core_web_sm by running the command :\n",
    "\n",
    "python -m spacy download en_core_web_sm\n",
    "\n",
    "in your terminal or command prompt.\n",
    "\n",
    "In this notebook, we'll begin looking at \"Relation Extraction\".  Relation Extraction is an approach in NLP where we try to identify the relationship between two entities - typically an object and a subject.  To do this, we should understand a little about depdency structures, and how we can use SpaCy's visualiser - displacy - to explore dependency subtrees.\n",
    "\n",
    "Dependency describes the \"role\" played by a word in the context of a sentence.  For example, a word might play the role of a \"Negation Modifier\", which is a word that modifies a word next to it to make it a negative.\n",
    "\n",
    "Let's start exploring this.  But first, let's import the libraries we need."
   ]
  },
  {
   "cell_type": "code",
   "execution_count": null,
   "metadata": {},
   "outputs": [],
   "source": [
    "import spacy\n",
    "\n",
    "from spacy import displacy\n",
    "\n",
    "import en_core_web_sm\n",
    "\n",
    "# Load spacy model\n",
    "nlp = en_core_web_sm.load()"
   ]
  },
  {
   "cell_type": "markdown",
   "metadata": {},
   "source": [
    "Let's take an example piece of text for which we want to extract a relationship - in this case, the company Tableau acquiring the company Salesforce."
   ]
  },
  {
   "cell_type": "code",
   "execution_count": null,
   "metadata": {},
   "outputs": [],
   "source": [
    "text = \"Tableau was recently acquired by Salesforce\""
   ]
  },
  {
   "cell_type": "markdown",
   "metadata": {},
   "source": [
    "Let's apply the SpaCy model to the text, and then plot and display a dependency graph using displacy.  We'll also print the dependency and POS tags."
   ]
  },
  {
   "cell_type": "code",
   "execution_count": null,
   "metadata": {},
   "outputs": [],
   "source": [
    "# Apply the loaded SpaCy model to the text\n",
    "doc = nlp(text)\n",
    "\n",
    "# Plot and display the dependency graph using displacy\n",
    "displacy.render(doc, style='dep')\n",
    "\n",
    "# Use this for Spyder (will spin up a server) - see :\n",
    "# https://spacy.io/usage/visualizers\n",
    "# Once spun up, go to server address in console (e.g. 0.0.0.0:5000)\n",
    "# displacy.serve(doc, style='dep')\n",
    "\n",
    "for tok in doc:\n",
    "    print (f\"{tok.text} --> {tok.dep_} --> {tok.pos_}\")"
   ]
  },
  {
   "cell_type": "markdown",
   "metadata": {},
   "source": [
    "We can see a number of things from the above plot.  We see not only the POS tags for each word, but also how the words are dependent on each other.  For example, we see that \"Tableau\" acts a passive nominal subject in this sentence (Tableau is the \"subject\" of the sentence - the entity to which the verb is being (or in this case, has been) done), that \"Salesforce\" acts as an object of preposition (Salesforce is an object because it is the thing that is (or, here, was) doing the verb), and that the two halves of the sentence are linked by the verb \"acquired\".\n",
    "\n",
    "If we want to extract the relationship in the text above, we need to be able to identify the relevant subject and object of the sentence.  Let's write a function that takes as its input a SpaCy document.  This function will iterate through all the tokens in the input document, and check to see if the token has a dependency tag that contains \"subjpass\" (passive subject) such as 'nsubjpass' (nominal subject (passive)) (remember you can use spacy.explain to look up POS and dependency tags such as 'nsubjpass').  If it does, it will store the text of the token in y.  It will then iterate through all of the tokens to look for an object (there are different types of object, so this will look for any dependency tags that end with \"obj\"). Once it finds one, it will store the text of the token in x.  The function will then return both x (the object) and y (the passive subject).\n",
    "\n",
    "Note - this function will only work properly if there is one object and one passive subject (so realistically a single sentence).  More than one object or passive subject would cause only the last one in the text to be returned. So this would need adapting if that's what you need.\n",
    "\n",
    "A nominal is a word or group of words that function together as a noun. A nominal gives more specific details than a simple noun.  E.g. \"nice cup of tea\" is an example of a nominal - it gives more description than the head noun (cup) - we now know that it is a cup filled with tea, and that it is nice.  See https://www.thoughtco.com/nominal-in-grammar-1691431 \n",
    "\n",
    "Because nominals function as nouns, they can do whatever nouns can - be a subject, an object or a predictive nominative. A nominal subject (passive) is therefore one in which the nominal is acting as the thing to which the action is being done.  In our example sentence \"Tableau was recently acquired by Salesforce\", Tableau is a nominal subject passive ('nsubjpass') because it is the thing to which the action of acquiring was being done."
   ]
  },
  {
   "cell_type": "code",
   "execution_count": null,
   "metadata": {},
   "outputs": [],
   "source": [
    "def subtree_matcher(doc):\n",
    "    x = ''\n",
    "    y = ''\n",
    "    \n",
    "    # Iterate through all the tokens in the input document\n",
    "    for i, tok in enumerate(doc):\n",
    "        # extract subject\n",
    "        if tok.dep_.find(\"subjpass\") == True:\n",
    "            y = tok.text\n",
    "            \n",
    "    # Extract object\n",
    "    if tok.dep_.endswith(\"obj\") == True:\n",
    "        x = tok.text\n",
    "        \n",
    "    # Return object and passive subject\n",
    "    return x,y"
   ]
  },
  {
   "cell_type": "markdown",
   "metadata": {},
   "source": [
    "Now let's call our function to grab out the object and passive subject of our sentence."
   ]
  },
  {
   "cell_type": "code",
   "execution_count": null,
   "metadata": {},
   "outputs": [],
   "source": [
    "# Call the function above to grab out the object and passive subject of doc\n",
    "obj, subj = subtree_matcher(doc)\n",
    "\n",
    "# Print the identified subject and object\n",
    "print (f\"Subject : {subj}, Object: {obj}\")"
   ]
  },
  {
   "cell_type": "markdown",
   "metadata": {},
   "source": [
    "Let's try it with another sentence."
   ]
  },
  {
   "cell_type": "code",
   "execution_count": null,
   "metadata": {},
   "outputs": [],
   "source": [
    "text_2 = \"Careem, a ride hailing major in middle east was aquired by Uber\"\n",
    "\n",
    "doc_2 = nlp(text_2)\n",
    "\n",
    "obj_2, subj_2 = subtree_matcher(doc_2)\n",
    "\n",
    "print (f\"Subject : {subj_2}, Object: {obj_2}\")"
   ]
  },
  {
   "cell_type": "markdown",
   "metadata": {},
   "source": [
    "Now let's try another one."
   ]
  },
  {
   "cell_type": "code",
   "execution_count": null,
   "metadata": {},
   "outputs": [],
   "source": [
    "text_3 = \"Salesforce recently acquired Tableau.\"\n",
    "\n",
    "doc_3 = nlp(text_3)\n",
    "\n",
    "obj_3, subj_3 = subtree_matcher(doc_3)\n",
    "\n",
    "print (f\"Subject : {subj_3}, Object: {obj_3}\")"
   ]
  },
  {
   "cell_type": "markdown",
   "metadata": {},
   "source": [
    "We can see that it hasn't worked properly this time.  Let's have a look at the dependency tree to see what might have gone wrong."
   ]
  },
  {
   "cell_type": "code",
   "execution_count": null,
   "metadata": {},
   "outputs": [],
   "source": [
    "displacy.render(doc_3, style='dep')\n",
    "\n",
    "for tok in doc_3:\n",
    "    print (f\"{tok.text} --> {tok.dep_} --> {tok.pos_}\")"
   ]
  },
  {
   "cell_type": "markdown",
   "metadata": {},
   "source": [
    "This sentence is an active version of the first example sentence. Therefore, the subject and object have been interchanged, and the dependency tag for the subject is no longer \"nsubjpass\" but is now \"nsubj\" - ie a subject in a sentence in the active voice (rather than the passive voice). So we need to update our logic to accomodate this.  Let's rewrite the function to first check whether the sentence is in the active or passive voice.  If it's passive, we'll do what we did before, but if it's active, we'll look for the dependency tag \"subj\" instead of \"subjpass\"."
   ]
  },
  {
   "cell_type": "code",
   "execution_count": null,
   "metadata": {},
   "outputs": [],
   "source": [
    "def subtree_matcher(doc):\n",
    "    subjpass = False\n",
    "    \n",
    "    for i, tok in enumerate(doc):\n",
    "        # Find dependency tag that contains the text \"subjpass\"\n",
    "        if tok.dep_.find(\"subjpass\") == True:\n",
    "            subjpass = True\n",
    "            \n",
    "    x = ''\n",
    "    y = ''\n",
    "    \n",
    "    # if sentence is passive\n",
    "    if subjpass == True:\n",
    "        for i, tok in enumerate(doc):\n",
    "            if tok.dep_.find(\"subjpass\") == True:\n",
    "                y = tok.text\n",
    "                \n",
    "            if tok.dep_.endswith(\"obj\") == True:\n",
    "                x = tok.text\n",
    "                \n",
    "    # if sentence is not passive\n",
    "    else:\n",
    "        for i, tok in enumerate(doc):\n",
    "            if tok.dep_.endswith(\"subj\") == True:\n",
    "                x = tok.text\n",
    "                \n",
    "            if tok.dep_.endswith(\"obj\") == True:\n",
    "                y = tok.text\n",
    "                \n",
    "    return x,y"
   ]
  },
  {
   "cell_type": "markdown",
   "metadata": {},
   "source": [
    "Let's try our third sentence again with our new function."
   ]
  },
  {
   "cell_type": "code",
   "execution_count": null,
   "metadata": {},
   "outputs": [],
   "source": [
    "text_3 = \"Salesforce recently acquired Tableau.\"\n",
    "\n",
    "doc_3 = nlp(text_3)\n",
    "\n",
    "obj_3, subj_3 = subtree_matcher(doc_3)\n",
    "\n",
    "print (f\"Subject : {subj_3}, Object: {obj_3}\")"
   ]
  },
  {
   "cell_type": "markdown",
   "metadata": {},
   "source": [
    "Great! That's worked.  Let's try out another sentence."
   ]
  },
  {
   "cell_type": "code",
   "execution_count": null,
   "metadata": {},
   "outputs": [],
   "source": [
    "text_4 = \"Father took victim out for meal\"\n",
    "\n",
    "doc_4 = nlp(text_4)\n",
    "\n",
    "obj_4, subj_4 = subtree_matcher(doc_4)\n",
    "\n",
    "print (f\"Subject : {subj_4}, Object: {obj_4}\")"
   ]
  },
  {
   "cell_type": "markdown",
   "metadata": {},
   "source": [
    "This hasn't picked up the subject we hoped for - we wanted \"victim\" and we got \"meal\".  Let's look at the dependency tree."
   ]
  },
  {
   "cell_type": "code",
   "execution_count": null,
   "metadata": {},
   "outputs": [],
   "source": [
    "displacy.render(doc_4, style='dep')\n",
    "\n",
    "for tok in doc_4:\n",
    "    print (f\"{tok.text} --> {tok.dep_} --> {tok.pos_}\")"
   ]
  },
  {
   "cell_type": "markdown",
   "metadata": {},
   "source": [
    "This time we find a new problem - here we've got a single subject (Father) but two objects (victim and meal). Looking at the dependency tree / tags, we see that victim has a tag of \"dobj\" and meal has a tage of \"pobj\".  \"dobj\" is a Direct Object - this is one that answers the question \"whom?\" or \"what?\" after an action verb.  So in this case, the father \"took\" - and who did he take?  The victim.  Therefore, victim is the Direct Object.  \"pobj\" is an Object of Preposition - this is one that answers \"whom?\" or \"what?\" after a preposition in a prepositional phrase.  Remember, a preposition governs a noun or pronoun to express a relation with another element in the clause (words such as by, to, at etc). In this case, the preposition is \"for\" - it identifies the reason why the father took the victim out (for a meal).  So, the Object of Preposition here is \"meal\" - it's the object in the prepositional phrase. See : https://webapps.towson.edu/ows/nouns.htm\n",
    "\n",
    "So, our simple function above won't cut the mustard, because there are two objects here, and so the last one in the sentence (in this case, the object of preposition) would be returned as THE object.  But in reality, we probably want the direct object, or at least to be able to choose between them.  \n",
    "\n",
    "Let's rewrite our function again.  Here, rather than returning a single subject and a single object, we return a list of subjects and objects.  For the list of objects, we actually return a list of tuples, where the first element of the tuple is the text of the token identified as an object, and the second is the dependency tag, so we can identify what type of object it is.  This would allow us, for example, to filter only direct objects, if that is all we're interested in."
   ]
  },
  {
   "cell_type": "code",
   "execution_count": null,
   "metadata": {},
   "outputs": [],
   "source": [
    "def subtree_matcher(doc):\n",
    "    subjpass = False\n",
    "    \n",
    "    for i, tok in enumerate(doc):\n",
    "        # Find dependency tag that contains the text \"subjpass\"\n",
    "        if tok.dep_.find(\"subjpass\") == True:\n",
    "            subjpass = True\n",
    "            \n",
    "    object_list = []\n",
    "    subject_list = []\n",
    "    \n",
    "    # if sentence is passive\n",
    "    if subjpass == True:\n",
    "        for i, tok in enumerate(doc):\n",
    "            if tok.dep_.find(\"subjpass\") == True:\n",
    "                subject_list.append(tok.text)\n",
    "                \n",
    "            if tok.dep_.endswith(\"obj\") == True:\n",
    "                obj_text = tok.text\n",
    "                obj_dtag = tok.dep_\n",
    "                object_list.append((obj_text, obj_dtag))\n",
    "                \n",
    "    # if subjpass == 0 then sentence is not passive\n",
    "    else:\n",
    "        for i, tok in enumerate(doc):\n",
    "            if tok.dep_.endswith(\"subj\") == True:\n",
    "                subject_list.append(tok.text)\n",
    "                \n",
    "            if tok.dep_.endswith(\"obj\") == True:\n",
    "                obj_text = tok.text\n",
    "                obj_dtag = tok.dep_\n",
    "                object_list.append((obj_text, obj_dtag))\n",
    "                \n",
    "    return object_list, subject_list"
   ]
  },
  {
   "cell_type": "markdown",
   "metadata": {},
   "source": [
    "Now let's try out our new function and see if that solves our problem."
   ]
  },
  {
   "cell_type": "code",
   "execution_count": null,
   "metadata": {},
   "outputs": [],
   "source": [
    "obj_l, subj_l = subtree_matcher(doc_4)\n",
    "\n",
    "print (f\"Subject(s) : {subj_l}\")\n",
    "print (f\"Object(s) : {obj_l}\")"
   ]
  },
  {
   "cell_type": "markdown",
   "metadata": {},
   "source": [
    "That's done the trick.  Now we've got an idea of how we can extract subjects and objects, we can move onto thinking about extracting Relational Triples - we'll look at that in the next notebook."
   ]
  }
 ],
 "metadata": {
  "kernelspec": {
   "display_name": "Python 3",
   "language": "python",
   "name": "python3"
  },
  "language_info": {
   "codemirror_mode": {
    "name": "ipython",
    "version": 3
   },
   "file_extension": ".py",
   "mimetype": "text/x-python",
   "name": "python",
   "nbconvert_exporter": "python",
   "pygments_lexer": "ipython3",
   "version": "3.7.6"
  }
 },
 "nbformat": 4,
 "nbformat_minor": 4
}
