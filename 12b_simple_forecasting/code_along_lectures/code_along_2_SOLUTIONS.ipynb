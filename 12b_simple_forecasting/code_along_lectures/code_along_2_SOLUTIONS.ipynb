{
 "cells": [
  {
   "cell_type": "markdown",
   "metadata": {},
   "source": [
    "# HSMA Introduction to Prophet\n",
    "## Code along lecture 2: Creating a basic Prophet model\n",
    "\n",
    "**In this code along lecture you will learn:**\n",
    "* How to convert time series data into a `pandas.DataFrame` in Prophet format.\n",
    "---"
   ]
  }
 ],
 "metadata": {
  "kernelspec": {
   "display_name": "Python 3",
   "language": "python",
   "name": "python3"
  },
  "language_info": {
   "codemirror_mode": {
    "name": "ipython",
    "version": 3
   },
   "file_extension": ".py",
   "mimetype": "text/x-python",
   "name": "python",
   "nbconvert_exporter": "python",
   "pygments_lexer": "ipython3",
   "version": "3.7.7"
  }
 },
 "nbformat": 4,
 "nbformat_minor": 4
}
